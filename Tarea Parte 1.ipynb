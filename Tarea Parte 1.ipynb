{
 "cells": [
  {
   "cell_type": "markdown",
   "id": "322e35c7",
   "metadata": {},
   "source": [
    "# Parte 1\n",
    "### 1.1 \n",
    "Elegimos un dataset llamado [\"salary.csv\"](https://www.kaggle.com/datasets/ayessa/salary-prediction-classification) que tiene de utilidad original crear un algoritmo predicitvo para poder predecir si una persona gana mas de 50.000 USD al año. Creer que existe una desigualdad en la proporcion de quien gana mas dependiendo del sexo en este dataset es valido, es por esta razon que elegimos esta dataset para poder estudiar su posible sesgo.  "
   ]
  },
  {
   "cell_type": "markdown",
   "id": "a41d506a",
   "metadata": {},
   "source": [
    "Primero, importar los paquetes necesarios para poder utilizar AIF360 y el dataset."
   ]
  },
  {
   "cell_type": "code",
   "execution_count": 23,
   "id": "d418bff0",
   "metadata": {},
   "outputs": [],
   "source": [
    "import sys\n",
    "sys.path.insert(1, \"../\")\n",
    "\n",
    "from aif360.metrics import BinaryLabelDatasetMetric\n",
    "from aif360.algorithms.preprocessing import Reweighing\n",
    "from IPython.display import Markdown, display\n",
    "from aif360.datasets import StandardDataset\n",
    "\n",
    "\n",
    "import pandas as pd\n",
    "import numpy as np\n",
    "np.random.seed(0)\n",
    "\n",
    "salary = pd.read_csv('salary.csv')"
   ]
  },
  {
   "cell_type": "markdown",
   "id": "4bf69e72",
   "metadata": {},
   "source": [
    "## 1.2\n",
    "Preprocesamos el dataset para poder ocupar las funciones de AIF360."
   ]
  },
  {
   "cell_type": "code",
   "execution_count": 24,
   "id": "6a28677e",
   "metadata": {},
   "outputs": [],
   "source": [
    "salary['sex'] = salary['sex'].apply(lambda x: 0 if x==' Female' else 1)\n",
    "salary['salary'] = salary['salary'].apply(lambda x: 1 if x==' >50K' else 0)\n",
    "salary_aif = StandardDataset(salary, label_name='salary', protected_attribute_names=['sex'],\n",
    "                              privileged_classes=[[1]], favorable_classes=[1],\n",
    "                                features_to_drop=['workclass', 'fnlwgt', 'education', 'marital-status',\n",
    "                                                  'occupation', 'relationship', 'race', 'native-country'])\n",
    "\n",
    "\n",
    "salary_aif_train, salary_aif_test = salary_aif.split([0.7], shuffle=True)\n",
    "privileged_groups = [{'sex': 1}]\n",
    "unprivileged_groups = [{'sex': 0}]"
   ]
  },
  {
   "cell_type": "code",
   "execution_count": 25,
   "id": "d04dfbaf",
   "metadata": {},
   "outputs": [
    {
     "name": "stdout",
     "output_type": "stream",
     "text": [
      "(32561, 6) (22792, 6) (9769, 6)\n"
     ]
    }
   ],
   "source": [
    "print(salary_aif.features.shape, salary_aif_train.features.shape, salary_aif_test.features.shape)"
   ]
  },
  {
   "cell_type": "markdown",
   "id": "db2992af",
   "metadata": {},
   "source": [
    "Ahora el dataset puede ocupar funciones de AIF360, ya que fue procesado correctamente."
   ]
  },
  {
   "cell_type": "markdown",
   "id": "03a916d2",
   "metadata": {},
   "source": [
    "## 1.3\n",
    "Seleccionamos al grupo \"Male\" como privilegiado, y \"Female\" como no privilegiado. Decidimos hacer esto ya que el numero de articulos que apoya esta suposicion es bien grande. [Por ejemplo](https://www.payscale.com/gender-lifetime-earnings-gap) en este articulo establecen que los hombres ganan mas que las mujeres, pero no *tanto* mas cuando trabajan el mismo oficio."
   ]
  },
  {
   "cell_type": "markdown",
   "id": "2f9df342",
   "metadata": {},
   "source": [
    "## 1.4\n",
    "Vamos a calcular dos metricas. La diferencia en el promedio, en donde se resta los resultados favorables para el grupo privilegiado con el grupo no privilegiado. Tambien vamos a calcular \"Disparate Impact\" para poder observar la proporcion de resultados favorables para el grupo no privilegiado en comparacion del grupo privilegiado."
   ]
  },
  {
   "cell_type": "code",
   "execution_count": 27,
   "id": "4ae5222e",
   "metadata": {},
   "outputs": [
    {
     "name": "stdout",
     "output_type": "stream",
     "text": [
      "Diferencia en promedio = -0.195396\n",
      "Disparate Impact = 0.363245\n"
     ]
    }
   ],
   "source": [
    "mean_train = BinaryLabelDatasetMetric(salary_aif_train,\n",
    "                                             unprivileged_groups=unprivileged_groups,\n",
    "                                             privileged_groups=privileged_groups)\n",
    "print(\"Diferencia en promedio = %f\" % mean_train.mean_difference())\n",
    "print(\"Disparate Impact = %f\" % mean_train.disparate_impact())"
   ]
  },
  {
   "cell_type": "markdown",
   "id": "6b60ba14",
   "metadata": {},
   "source": [
    "Como el resultado de la diferencia en promedio (mean_difference) es negativo, indica que hay menos resultados favorables para el grupo no privilegiado, por lo que si existe un sesgo."
   ]
  },
  {
   "cell_type": "code",
   "execution_count": null,
   "id": "82a60751",
   "metadata": {},
   "outputs": [],
   "source": []
  }
 ],
 "metadata": {
  "kernelspec": {
   "display_name": "t3",
   "language": "python",
   "name": "t3"
  },
  "language_info": {
   "codemirror_mode": {
    "name": "ipython",
    "version": 3
   },
   "file_extension": ".py",
   "mimetype": "text/x-python",
   "name": "python",
   "nbconvert_exporter": "python",
   "pygments_lexer": "ipython3",
   "version": "3.8.5"
  }
 },
 "nbformat": 4,
 "nbformat_minor": 5
}
